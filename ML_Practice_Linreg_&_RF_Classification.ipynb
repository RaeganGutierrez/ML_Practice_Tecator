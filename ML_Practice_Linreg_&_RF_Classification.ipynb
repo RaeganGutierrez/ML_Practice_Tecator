{
  "nbformat": 4,
  "nbformat_minor": 0,
  "metadata": {
    "kernelspec": {
      "display_name": "Python 3",
      "language": "python",
      "name": "python3"
    },
    "language_info": {
      "codemirror_mode": {
        "name": "ipython",
        "version": 3
      },
      "file_extension": ".py",
      "mimetype": "text/x-python",
      "name": "python",
      "nbconvert_exporter": "python",
      "pygments_lexer": "ipython3",
      "version": "3.7.3"
    },
    "colab": {
      "provenance": [],
      "include_colab_link": true
    }
  },
  "cells": [
    {
      "cell_type": "markdown",
      "metadata": {
        "id": "view-in-github",
        "colab_type": "text"
      },
      "source": [
        "<a href=\"https://colab.research.google.com/github/RaeganGutierrez/Machine-Learning-Practice/blob/main/ML_Practice_Linreg_%26_RF_Classification.ipynb\" target=\"_parent\"><img src=\"https://colab.research.google.com/assets/colab-badge.svg\" alt=\"Open In Colab\"/></a>"
      ]
    },
    {
      "cell_type": "markdown",
      "metadata": {
        "id": "pf2Ffd7js2Yr"
      },
      "source": [
        "#P1 (50pt): Write a Python code in Colab using NumPy, Panda, Scikit-Learn to complete the following tasks:"
      ]
    },
    {
      "cell_type": "markdown",
      "metadata": {
        "id": "4yJTtsi45_iN"
      },
      "source": [
        "1. Import the Auto MPG dataset using the dataset URL, use the attribute names as explained in the dataset description as the column names **(5pt)**, view the strings ‘?’ as the missing value, and whitespace (i.e., ‘\\s+’) as the column delimiter. Print out the shape and first 5 rows of the obtained DataFrame. **(5pt)**\n",
        "\n",
        "* Dataset source file:\n",
        "http://archive.ics.uci.edu/ml/machine-learning-databases/auto-mpg/auto-mpg.data\n",
        "* Dataset description: http://archive.ics.uci.edu/ml/datasets/Auto+MPG"
      ]
    },
    {
      "cell_type": "code",
      "metadata": {
        "id": "wXtjOtZ15_iQ",
        "colab": {
          "base_uri": "https://localhost:8080/"
        },
        "outputId": "9d69082a-12b8-400b-e02d-c98f7f48316f"
      },
      "source": [
        "#load packages\n",
        "import pandas as pd\n",
        "import numpy as np\n",
        "np.random.seed(100)\n",
        "import matplotlib.pyplot as plt\n",
        "from sklearn.model_selection import train_test_split\n",
        "from sklearn.linear_model import LinearRegression\n",
        "from sklearn.metrics import mean_squared_error\n",
        "\n",
        "# read in data\n",
        "auto = pd.read_csv('http://archive.ics.uci.edu/ml/machine-learning-databases/auto-mpg/auto-mpg.data',\n",
        "                   header = None,\n",
        "                   names =[\"mpg\", \"cylinders\", \"displacement\", \"horsepower\", \"weight\", \"acceleration\",\n",
        "                           \"model year\", \"origin\", \"car name\"],\n",
        "                   na_values ='?',\n",
        "                   delimiter = '\\s+')\n",
        "print('Shape:', auto.shape)\n",
        "print(auto.head(5))"
      ],
      "execution_count": 14,
      "outputs": [
        {
          "output_type": "stream",
          "name": "stdout",
          "text": [
            "Shape: (398, 9)\n",
            "    mpg  cylinders  displacement  horsepower  weight  acceleration  \\\n",
            "0  18.0          8         307.0       130.0  3504.0          12.0   \n",
            "1  15.0          8         350.0       165.0  3693.0          11.5   \n",
            "2  18.0          8         318.0       150.0  3436.0          11.0   \n",
            "3  16.0          8         304.0       150.0  3433.0          12.0   \n",
            "4  17.0          8         302.0       140.0  3449.0          10.5   \n",
            "\n",
            "   model year  origin                   car name  \n",
            "0          70       1  chevrolet chevelle malibu  \n",
            "1          70       1          buick skylark 320  \n",
            "2          70       1         plymouth satellite  \n",
            "3          70       1              amc rebel sst  \n",
            "4          70       1                ford torino  \n"
          ]
        }
      ]
    },
    {
      "cell_type": "markdown",
      "metadata": {
        "id": "T4z6XsyA5_iW"
      },
      "source": [
        "2.\tDelete the “car_name” column as it is irrelevant to the prediction. Print out a concise summary of the new DataFrame and check if NULL value exists in each column. **(5pt)**"
      ]
    },
    {
      "cell_type": "code",
      "metadata": {
        "id": "3vmA6Pj25_ia",
        "colab": {
          "base_uri": "https://localhost:8080/"
        },
        "outputId": "5356c87c-a370-42f6-a0f9-f4c2f0ad76e1"
      },
      "source": [
        "# Drop 'car name' and check for nulls\n",
        "auto2 = auto.drop('car name', axis = 'columns')\n",
        "print(auto2.info())"
      ],
      "execution_count": 4,
      "outputs": [
        {
          "output_type": "stream",
          "name": "stdout",
          "text": [
            "<class 'pandas.core.frame.DataFrame'>\n",
            "RangeIndex: 398 entries, 0 to 397\n",
            "Data columns (total 8 columns):\n",
            " #   Column        Non-Null Count  Dtype  \n",
            "---  ------        --------------  -----  \n",
            " 0   mpg           398 non-null    float64\n",
            " 1   cylinders     398 non-null    int64  \n",
            " 2   displacement  398 non-null    float64\n",
            " 3   horsepower    392 non-null    float64\n",
            " 4   weight        398 non-null    float64\n",
            " 5   acceleration  398 non-null    float64\n",
            " 6   model year    398 non-null    int64  \n",
            " 7   origin        398 non-null    int64  \n",
            "dtypes: float64(5), int64(3)\n",
            "memory usage: 25.0 KB\n",
            "None\n"
          ]
        }
      ]
    },
    {
      "cell_type": "markdown",
      "metadata": {
        "id": "gdmwlYC9PnVO"
      },
      "source": [
        "3.\tReplace any NULL values with the mean value of the column. Print out the concise summary of the new DataFrame and recheck if NULL values exists in each column. **(5pt)**"
      ]
    },
    {
      "cell_type": "code",
      "metadata": {
        "id": "AGy517MG5_id",
        "colab": {
          "base_uri": "https://localhost:8080/"
        },
        "outputId": "e01533c8-ccbc-440a-c461-26aaf9e18890"
      },
      "source": [
        "# impute missing values\n",
        "auto2['horsepower'].fillna(float(auto2['horsepower'].mean()), inplace=True)\n",
        "print(auto2.info())"
      ],
      "execution_count": 5,
      "outputs": [
        {
          "output_type": "stream",
          "name": "stdout",
          "text": [
            "<class 'pandas.core.frame.DataFrame'>\n",
            "RangeIndex: 398 entries, 0 to 397\n",
            "Data columns (total 8 columns):\n",
            " #   Column        Non-Null Count  Dtype  \n",
            "---  ------        --------------  -----  \n",
            " 0   mpg           398 non-null    float64\n",
            " 1   cylinders     398 non-null    int64  \n",
            " 2   displacement  398 non-null    float64\n",
            " 3   horsepower    398 non-null    float64\n",
            " 4   weight        398 non-null    float64\n",
            " 5   acceleration  398 non-null    float64\n",
            " 6   model year    398 non-null    int64  \n",
            " 7   origin        398 non-null    int64  \n",
            "dtypes: float64(5), int64(3)\n",
            "memory usage: 25.0 KB\n",
            "None\n"
          ]
        }
      ]
    },
    {
      "cell_type": "markdown",
      "metadata": {
        "id": "Uaimx7K15_ij"
      },
      "source": [
        "4.\tUse one-hot encoding to replace any categorical variables, then print out the first 5 rows of the newly obtained DataFrame. **(10pt)**"
      ]
    },
    {
      "cell_type": "code",
      "source": [
        "# one-hot encode the 'origin' column\n",
        "from enum import auto\n",
        "auto3 = pd.get_dummies(data = auto2, columns = ['origin'])\n",
        "print(auto3.head(5))"
      ],
      "metadata": {
        "id": "bAoySupK7jP8",
        "colab": {
          "base_uri": "https://localhost:8080/"
        },
        "outputId": "29089213-b3e1-4f20-ad4f-9ea497564671"
      },
      "execution_count": 6,
      "outputs": [
        {
          "output_type": "stream",
          "name": "stdout",
          "text": [
            "    mpg  cylinders  displacement  horsepower  weight  acceleration  \\\n",
            "0  18.0          8         307.0       130.0  3504.0          12.0   \n",
            "1  15.0          8         350.0       165.0  3693.0          11.5   \n",
            "2  18.0          8         318.0       150.0  3436.0          11.0   \n",
            "3  16.0          8         304.0       150.0  3433.0          12.0   \n",
            "4  17.0          8         302.0       140.0  3449.0          10.5   \n",
            "\n",
            "   model year  origin_1  origin_2  origin_3  \n",
            "0          70         1         0         0  \n",
            "1          70         1         0         0  \n",
            "2          70         1         0         0  \n",
            "3          70         1         0         0  \n",
            "4          70         1         0         0  \n"
          ]
        }
      ]
    },
    {
      "cell_type": "markdown",
      "metadata": {
        "id": "8hyGvlhd5_ip"
      },
      "source": [
        "5.\tTrain a linear regression model (fit_intercept=True) to predict the “mpg” column from the remaining columns in the obtained DataFrame of Step 4.\n",
        "\n",
        "  a.\tSeparate the “mpg” column from other columns and view it as the label vector and others as the feature matrix. **(5pt)**\n",
        "\n",
        "  b.\tSplit the data into a training/testing set and print out their shapes. **(5pt)**\n",
        "\n",
        "  c.\tTrain the model using the training set and print out the coefficients of the model. **(5 pt)**\n",
        "\n",
        "  d.\tUse the trained model to predict on the test set and print out the mean squared error of the predictions. **(5pt)**\n",
        "  "
      ]
    },
    {
      "cell_type": "code",
      "source": [
        "# a: separate response variable\n",
        "X = auto3.drop('mpg', axis = 'columns')\n",
        "y = auto3['mpg']\n",
        "\n",
        "# b: create train test split\n",
        "X_train, X_test, y_train, y_test = train_test_split(X, y, random_state = 0, train_size = .8)\n",
        "print('X train shape:', X_train.shape, 'Y train shape:', y_train.shape)\n",
        "\n",
        "# c: train model\n",
        "Linmod = LinearRegression()\n",
        "Linmod.fit(X_train, y_train)\n",
        "print('Coefficients:', Linmod.coef_)\n",
        "\n",
        "# d: test model and print mse\n",
        "from sklearn import metrics\n",
        "pred = Linmod.predict(X_test)\n",
        "metrics.mean_squared_error(y_test, pred)"
      ],
      "metadata": {
        "id": "L_MvJrQmoHBf",
        "colab": {
          "base_uri": "https://localhost:8080/"
        },
        "outputId": "1d83ccb6-00a7-4a55-fe42-be7ee6aad611"
      },
      "execution_count": 9,
      "outputs": [
        {
          "output_type": "stream",
          "name": "stdout",
          "text": [
            "X train shape: (318, 9) Y train shape: (318,)\n",
            "Coefficients: [-0.40247363  0.02517027 -0.02090317 -0.00666591  0.19107804  0.76544926\n",
            " -1.92519814  0.72404785  1.20115029]\n"
          ]
        },
        {
          "output_type": "execute_result",
          "data": {
            "text/plain": [
              "10.99221496252435"
            ]
          },
          "metadata": {},
          "execution_count": 9
        }
      ]
    },
    {
      "cell_type": "markdown",
      "metadata": {
        "id": "F9rPqAvPs88u"
      },
      "source": [
        "# P2 (50pt): Write a Python code in Colab using NumPy, Panda, Scikit-Learn to complete the following tasks:"
      ]
    },
    {
      "cell_type": "markdown",
      "metadata": {
        "id": "0GHwbmtUnhEe"
      },
      "source": [
        "1. Import the red wine dataset using the dataset URL, use the semi-colon as the column delimiter, and print out both the first five rows and a concise summary of the obtained DataFrame. **(10 pt)**\n",
        "\n",
        "\ta.\tDataset source file: http://archive.ics.uci.edu/ml/machine-learning-databases/wine-quality/winequality-red.csv\n",
        "\n",
        "\tb.\t Dataset description: http://archive.ics.uci.edu/ml/datasets/wine+quality"
      ]
    },
    {
      "cell_type": "code",
      "metadata": {
        "id": "bx6MmbMWus3A",
        "colab": {
          "base_uri": "https://localhost:8080/"
        },
        "outputId": "bfeaa516-dabc-41f5-e25a-008694f9250e"
      },
      "source": [
        "# read data\n",
        "wine = pd.read_csv('http://archive.ics.uci.edu/ml/machine-learning-databases/wine-quality/winequality-red.csv',\n",
        "                   delimiter = ';')\n",
        "print(wine.head(5))\n",
        "print(wine.info())"
      ],
      "execution_count": 17,
      "outputs": [
        {
          "output_type": "stream",
          "name": "stdout",
          "text": [
            "   fixed acidity  volatile acidity  citric acid  residual sugar  chlorides  \\\n",
            "0            7.4              0.70         0.00             1.9      0.076   \n",
            "1            7.8              0.88         0.00             2.6      0.098   \n",
            "2            7.8              0.76         0.04             2.3      0.092   \n",
            "3           11.2              0.28         0.56             1.9      0.075   \n",
            "4            7.4              0.70         0.00             1.9      0.076   \n",
            "\n",
            "   free sulfur dioxide  total sulfur dioxide  density    pH  sulphates  \\\n",
            "0                 11.0                  34.0   0.9978  3.51       0.56   \n",
            "1                 25.0                  67.0   0.9968  3.20       0.68   \n",
            "2                 15.0                  54.0   0.9970  3.26       0.65   \n",
            "3                 17.0                  60.0   0.9980  3.16       0.58   \n",
            "4                 11.0                  34.0   0.9978  3.51       0.56   \n",
            "\n",
            "   alcohol  quality  \n",
            "0      9.4        5  \n",
            "1      9.8        5  \n",
            "2      9.8        5  \n",
            "3      9.8        6  \n",
            "4      9.4        5  \n",
            "<class 'pandas.core.frame.DataFrame'>\n",
            "RangeIndex: 1599 entries, 0 to 1598\n",
            "Data columns (total 12 columns):\n",
            " #   Column                Non-Null Count  Dtype  \n",
            "---  ------                --------------  -----  \n",
            " 0   fixed acidity         1599 non-null   float64\n",
            " 1   volatile acidity      1599 non-null   float64\n",
            " 2   citric acid           1599 non-null   float64\n",
            " 3   residual sugar        1599 non-null   float64\n",
            " 4   chlorides             1599 non-null   float64\n",
            " 5   free sulfur dioxide   1599 non-null   float64\n",
            " 6   total sulfur dioxide  1599 non-null   float64\n",
            " 7   density               1599 non-null   float64\n",
            " 8   pH                    1599 non-null   float64\n",
            " 9   sulphates             1599 non-null   float64\n",
            " 10  alcohol               1599 non-null   float64\n",
            " 11  quality               1599 non-null   int64  \n",
            "dtypes: float64(11), int64(1)\n",
            "memory usage: 150.0 KB\n",
            "None\n"
          ]
        }
      ]
    },
    {
      "cell_type": "markdown",
      "metadata": {
        "id": "qNcZzg1eoIEq"
      },
      "source": [
        "2. Suppose we want to predict the quality of wine from other attributes. Divide the data into a label vector and a feature matrix. Then split them into a training and testing set. **(5pt)**"
      ]
    },
    {
      "cell_type": "code",
      "metadata": {
        "id": "HWNMnliNwFHY"
      },
      "source": [
        "# separate response variable\n",
        "X = wine.drop('quality', axis = 'columns')\n",
        "y = wine['quality']\n",
        "\n",
        "# create train test split\n",
        "X_train, X_test, y_train, y_test = train_test_split(X, y, random_state = 0, train_size = .8)"
      ],
      "execution_count": 18,
      "outputs": []
    },
    {
      "cell_type": "markdown",
      "metadata": {
        "id": "gUoxnNskoRU9"
      },
      "source": [
        "3. Use the StandardScalar() in Scikit-Learn to preprocess the feature matrices of both training set and testing set. **(5 pt)**"
      ]
    },
    {
      "cell_type": "code",
      "metadata": {
        "id": "lHV721EwzwnK",
        "colab": {
          "base_uri": "https://localhost:8080/",
          "height": 300
        },
        "outputId": "348491ca-b97d-4283-a48e-373c1e17dae0"
      },
      "source": [
        "# Preprocessing\n",
        "from sklearn import preprocessing\n",
        "from sklearn.preprocessing import StandardScaler\n",
        "scale = StandardScaler()\n",
        "X_train = scale.fit_transform(X_train)\n",
        "X_test = scale.transform(X_test)\n",
        "\n",
        "X_train = pd.DataFrame(X_train)\n",
        "X_train.describe()"
      ],
      "execution_count": 19,
      "outputs": [
        {
          "output_type": "execute_result",
          "data": {
            "text/plain": [
              "                 0             1             2             3             4   \\\n",
              "count  1.279000e+03  1.279000e+03  1.279000e+03  1.279000e+03  1.279000e+03   \n",
              "mean  -3.583269e-16  4.555473e-16 -9.166501e-17 -1.666637e-17  1.722191e-16   \n",
              "std    1.000391e+00  1.000391e+00  1.000391e+00  1.000391e+00  1.000391e+00   \n",
              "min   -2.097363e+00 -2.246915e+00 -1.392011e+00 -1.138559e+00 -1.570125e+00   \n",
              "25%   -7.134876e-01 -7.672394e-01 -9.317263e-01 -4.498451e-01 -3.562873e-01   \n",
              "50%   -2.521957e-01 -5.480282e-02 -6.229902e-02 -2.432309e-01 -1.679332e-01   \n",
              "75%    5.550651e-01  5.891303e-01  7.559855e-01  3.225488e-02  6.227746e-02   \n",
              "max    4.360723e+00  5.754296e+00  3.722267e+00  8.916670e+00  1.096589e+01   \n",
              "\n",
              "                 5             6             7             8             9   \\\n",
              "count  1.279000e+03  1.279000e+03  1.279000e+03  1.279000e+03  1.279000e+03   \n",
              "mean  -8.888729e-17 -6.666546e-17 -6.292456e-14  3.405494e-15 -2.777728e-16   \n",
              "std    1.000391e+00  1.000391e+00  1.000391e+00  1.000391e+00  1.000391e+00   \n",
              "min   -1.429408e+00 -1.224690e+00 -3.553912e+00 -3.702404e+00 -1.653976e+00   \n",
              "25%   -7.638080e-01 -7.480890e-01 -6.044792e-01 -6.486230e-01 -6.240939e-01   \n",
              "50%   -1.932938e-01 -2.714882e-01  1.350388e-03  1.117615e-03 -2.235841e-01   \n",
              "75%    4.723060e-01  4.732005e-01  5.832656e-01  5.858842e-01  4.057886e-01   \n",
              "max    5.321677e+00  7.205186e+00  3.684156e+00  4.549302e+00  7.672182e+00   \n",
              "\n",
              "                 10  \n",
              "count  1.279000e+03  \n",
              "mean   5.916560e-16  \n",
              "std    1.000391e+00  \n",
              "min   -1.898397e+00  \n",
              "25%   -8.615341e-01  \n",
              "50%   -2.017125e-01  \n",
              "75%    6.309196e-01  \n",
              "max    4.228518e+00  "
            ],
            "text/html": [
              "\n",
              "  <div id=\"df-94c8f653-0aa9-4515-bb40-80c2cbcf84bf\" class=\"colab-df-container\">\n",
              "    <div>\n",
              "<style scoped>\n",
              "    .dataframe tbody tr th:only-of-type {\n",
              "        vertical-align: middle;\n",
              "    }\n",
              "\n",
              "    .dataframe tbody tr th {\n",
              "        vertical-align: top;\n",
              "    }\n",
              "\n",
              "    .dataframe thead th {\n",
              "        text-align: right;\n",
              "    }\n",
              "</style>\n",
              "<table border=\"1\" class=\"dataframe\">\n",
              "  <thead>\n",
              "    <tr style=\"text-align: right;\">\n",
              "      <th></th>\n",
              "      <th>0</th>\n",
              "      <th>1</th>\n",
              "      <th>2</th>\n",
              "      <th>3</th>\n",
              "      <th>4</th>\n",
              "      <th>5</th>\n",
              "      <th>6</th>\n",
              "      <th>7</th>\n",
              "      <th>8</th>\n",
              "      <th>9</th>\n",
              "      <th>10</th>\n",
              "    </tr>\n",
              "  </thead>\n",
              "  <tbody>\n",
              "    <tr>\n",
              "      <th>count</th>\n",
              "      <td>1.279000e+03</td>\n",
              "      <td>1.279000e+03</td>\n",
              "      <td>1.279000e+03</td>\n",
              "      <td>1.279000e+03</td>\n",
              "      <td>1.279000e+03</td>\n",
              "      <td>1.279000e+03</td>\n",
              "      <td>1.279000e+03</td>\n",
              "      <td>1.279000e+03</td>\n",
              "      <td>1.279000e+03</td>\n",
              "      <td>1.279000e+03</td>\n",
              "      <td>1.279000e+03</td>\n",
              "    </tr>\n",
              "    <tr>\n",
              "      <th>mean</th>\n",
              "      <td>-3.583269e-16</td>\n",
              "      <td>4.555473e-16</td>\n",
              "      <td>-9.166501e-17</td>\n",
              "      <td>-1.666637e-17</td>\n",
              "      <td>1.722191e-16</td>\n",
              "      <td>-8.888729e-17</td>\n",
              "      <td>-6.666546e-17</td>\n",
              "      <td>-6.292456e-14</td>\n",
              "      <td>3.405494e-15</td>\n",
              "      <td>-2.777728e-16</td>\n",
              "      <td>5.916560e-16</td>\n",
              "    </tr>\n",
              "    <tr>\n",
              "      <th>std</th>\n",
              "      <td>1.000391e+00</td>\n",
              "      <td>1.000391e+00</td>\n",
              "      <td>1.000391e+00</td>\n",
              "      <td>1.000391e+00</td>\n",
              "      <td>1.000391e+00</td>\n",
              "      <td>1.000391e+00</td>\n",
              "      <td>1.000391e+00</td>\n",
              "      <td>1.000391e+00</td>\n",
              "      <td>1.000391e+00</td>\n",
              "      <td>1.000391e+00</td>\n",
              "      <td>1.000391e+00</td>\n",
              "    </tr>\n",
              "    <tr>\n",
              "      <th>min</th>\n",
              "      <td>-2.097363e+00</td>\n",
              "      <td>-2.246915e+00</td>\n",
              "      <td>-1.392011e+00</td>\n",
              "      <td>-1.138559e+00</td>\n",
              "      <td>-1.570125e+00</td>\n",
              "      <td>-1.429408e+00</td>\n",
              "      <td>-1.224690e+00</td>\n",
              "      <td>-3.553912e+00</td>\n",
              "      <td>-3.702404e+00</td>\n",
              "      <td>-1.653976e+00</td>\n",
              "      <td>-1.898397e+00</td>\n",
              "    </tr>\n",
              "    <tr>\n",
              "      <th>25%</th>\n",
              "      <td>-7.134876e-01</td>\n",
              "      <td>-7.672394e-01</td>\n",
              "      <td>-9.317263e-01</td>\n",
              "      <td>-4.498451e-01</td>\n",
              "      <td>-3.562873e-01</td>\n",
              "      <td>-7.638080e-01</td>\n",
              "      <td>-7.480890e-01</td>\n",
              "      <td>-6.044792e-01</td>\n",
              "      <td>-6.486230e-01</td>\n",
              "      <td>-6.240939e-01</td>\n",
              "      <td>-8.615341e-01</td>\n",
              "    </tr>\n",
              "    <tr>\n",
              "      <th>50%</th>\n",
              "      <td>-2.521957e-01</td>\n",
              "      <td>-5.480282e-02</td>\n",
              "      <td>-6.229902e-02</td>\n",
              "      <td>-2.432309e-01</td>\n",
              "      <td>-1.679332e-01</td>\n",
              "      <td>-1.932938e-01</td>\n",
              "      <td>-2.714882e-01</td>\n",
              "      <td>1.350388e-03</td>\n",
              "      <td>1.117615e-03</td>\n",
              "      <td>-2.235841e-01</td>\n",
              "      <td>-2.017125e-01</td>\n",
              "    </tr>\n",
              "    <tr>\n",
              "      <th>75%</th>\n",
              "      <td>5.550651e-01</td>\n",
              "      <td>5.891303e-01</td>\n",
              "      <td>7.559855e-01</td>\n",
              "      <td>3.225488e-02</td>\n",
              "      <td>6.227746e-02</td>\n",
              "      <td>4.723060e-01</td>\n",
              "      <td>4.732005e-01</td>\n",
              "      <td>5.832656e-01</td>\n",
              "      <td>5.858842e-01</td>\n",
              "      <td>4.057886e-01</td>\n",
              "      <td>6.309196e-01</td>\n",
              "    </tr>\n",
              "    <tr>\n",
              "      <th>max</th>\n",
              "      <td>4.360723e+00</td>\n",
              "      <td>5.754296e+00</td>\n",
              "      <td>3.722267e+00</td>\n",
              "      <td>8.916670e+00</td>\n",
              "      <td>1.096589e+01</td>\n",
              "      <td>5.321677e+00</td>\n",
              "      <td>7.205186e+00</td>\n",
              "      <td>3.684156e+00</td>\n",
              "      <td>4.549302e+00</td>\n",
              "      <td>7.672182e+00</td>\n",
              "      <td>4.228518e+00</td>\n",
              "    </tr>\n",
              "  </tbody>\n",
              "</table>\n",
              "</div>\n",
              "    <div class=\"colab-df-buttons\">\n",
              "\n",
              "  <div class=\"colab-df-container\">\n",
              "    <button class=\"colab-df-convert\" onclick=\"convertToInteractive('df-94c8f653-0aa9-4515-bb40-80c2cbcf84bf')\"\n",
              "            title=\"Convert this dataframe to an interactive table.\"\n",
              "            style=\"display:none;\">\n",
              "\n",
              "  <svg xmlns=\"http://www.w3.org/2000/svg\" height=\"24px\" viewBox=\"0 -960 960 960\">\n",
              "    <path d=\"M120-120v-720h720v720H120Zm60-500h600v-160H180v160Zm220 220h160v-160H400v160Zm0 220h160v-160H400v160ZM180-400h160v-160H180v160Zm440 0h160v-160H620v160ZM180-180h160v-160H180v160Zm440 0h160v-160H620v160Z\"/>\n",
              "  </svg>\n",
              "    </button>\n",
              "\n",
              "  <style>\n",
              "    .colab-df-container {\n",
              "      display:flex;\n",
              "      gap: 12px;\n",
              "    }\n",
              "\n",
              "    .colab-df-convert {\n",
              "      background-color: #E8F0FE;\n",
              "      border: none;\n",
              "      border-radius: 50%;\n",
              "      cursor: pointer;\n",
              "      display: none;\n",
              "      fill: #1967D2;\n",
              "      height: 32px;\n",
              "      padding: 0 0 0 0;\n",
              "      width: 32px;\n",
              "    }\n",
              "\n",
              "    .colab-df-convert:hover {\n",
              "      background-color: #E2EBFA;\n",
              "      box-shadow: 0px 1px 2px rgba(60, 64, 67, 0.3), 0px 1px 3px 1px rgba(60, 64, 67, 0.15);\n",
              "      fill: #174EA6;\n",
              "    }\n",
              "\n",
              "    .colab-df-buttons div {\n",
              "      margin-bottom: 4px;\n",
              "    }\n",
              "\n",
              "    [theme=dark] .colab-df-convert {\n",
              "      background-color: #3B4455;\n",
              "      fill: #D2E3FC;\n",
              "    }\n",
              "\n",
              "    [theme=dark] .colab-df-convert:hover {\n",
              "      background-color: #434B5C;\n",
              "      box-shadow: 0px 1px 3px 1px rgba(0, 0, 0, 0.15);\n",
              "      filter: drop-shadow(0px 1px 2px rgba(0, 0, 0, 0.3));\n",
              "      fill: #FFFFFF;\n",
              "    }\n",
              "  </style>\n",
              "\n",
              "    <script>\n",
              "      const buttonEl =\n",
              "        document.querySelector('#df-94c8f653-0aa9-4515-bb40-80c2cbcf84bf button.colab-df-convert');\n",
              "      buttonEl.style.display =\n",
              "        google.colab.kernel.accessAllowed ? 'block' : 'none';\n",
              "\n",
              "      async function convertToInteractive(key) {\n",
              "        const element = document.querySelector('#df-94c8f653-0aa9-4515-bb40-80c2cbcf84bf');\n",
              "        const dataTable =\n",
              "          await google.colab.kernel.invokeFunction('convertToInteractive',\n",
              "                                                    [key], {});\n",
              "        if (!dataTable) return;\n",
              "\n",
              "        const docLinkHtml = 'Like what you see? Visit the ' +\n",
              "          '<a target=\"_blank\" href=https://colab.research.google.com/notebooks/data_table.ipynb>data table notebook</a>'\n",
              "          + ' to learn more about interactive tables.';\n",
              "        element.innerHTML = '';\n",
              "        dataTable['output_type'] = 'display_data';\n",
              "        await google.colab.output.renderOutput(dataTable, element);\n",
              "        const docLink = document.createElement('div');\n",
              "        docLink.innerHTML = docLinkHtml;\n",
              "        element.appendChild(docLink);\n",
              "      }\n",
              "    </script>\n",
              "  </div>\n",
              "\n",
              "\n",
              "<div id=\"df-fb29e563-6837-4118-8bd5-a62abb0414b7\">\n",
              "  <button class=\"colab-df-quickchart\" onclick=\"quickchart('df-fb29e563-6837-4118-8bd5-a62abb0414b7')\"\n",
              "            title=\"Suggest charts\"\n",
              "            style=\"display:none;\">\n",
              "\n",
              "<svg xmlns=\"http://www.w3.org/2000/svg\" height=\"24px\"viewBox=\"0 0 24 24\"\n",
              "     width=\"24px\">\n",
              "    <g>\n",
              "        <path d=\"M19 3H5c-1.1 0-2 .9-2 2v14c0 1.1.9 2 2 2h14c1.1 0 2-.9 2-2V5c0-1.1-.9-2-2-2zM9 17H7v-7h2v7zm4 0h-2V7h2v10zm4 0h-2v-4h2v4z\"/>\n",
              "    </g>\n",
              "</svg>\n",
              "  </button>\n",
              "\n",
              "<style>\n",
              "  .colab-df-quickchart {\n",
              "      --bg-color: #E8F0FE;\n",
              "      --fill-color: #1967D2;\n",
              "      --hover-bg-color: #E2EBFA;\n",
              "      --hover-fill-color: #174EA6;\n",
              "      --disabled-fill-color: #AAA;\n",
              "      --disabled-bg-color: #DDD;\n",
              "  }\n",
              "\n",
              "  [theme=dark] .colab-df-quickchart {\n",
              "      --bg-color: #3B4455;\n",
              "      --fill-color: #D2E3FC;\n",
              "      --hover-bg-color: #434B5C;\n",
              "      --hover-fill-color: #FFFFFF;\n",
              "      --disabled-bg-color: #3B4455;\n",
              "      --disabled-fill-color: #666;\n",
              "  }\n",
              "\n",
              "  .colab-df-quickchart {\n",
              "    background-color: var(--bg-color);\n",
              "    border: none;\n",
              "    border-radius: 50%;\n",
              "    cursor: pointer;\n",
              "    display: none;\n",
              "    fill: var(--fill-color);\n",
              "    height: 32px;\n",
              "    padding: 0;\n",
              "    width: 32px;\n",
              "  }\n",
              "\n",
              "  .colab-df-quickchart:hover {\n",
              "    background-color: var(--hover-bg-color);\n",
              "    box-shadow: 0 1px 2px rgba(60, 64, 67, 0.3), 0 1px 3px 1px rgba(60, 64, 67, 0.15);\n",
              "    fill: var(--button-hover-fill-color);\n",
              "  }\n",
              "\n",
              "  .colab-df-quickchart-complete:disabled,\n",
              "  .colab-df-quickchart-complete:disabled:hover {\n",
              "    background-color: var(--disabled-bg-color);\n",
              "    fill: var(--disabled-fill-color);\n",
              "    box-shadow: none;\n",
              "  }\n",
              "\n",
              "  .colab-df-spinner {\n",
              "    border: 2px solid var(--fill-color);\n",
              "    border-color: transparent;\n",
              "    border-bottom-color: var(--fill-color);\n",
              "    animation:\n",
              "      spin 1s steps(1) infinite;\n",
              "  }\n",
              "\n",
              "  @keyframes spin {\n",
              "    0% {\n",
              "      border-color: transparent;\n",
              "      border-bottom-color: var(--fill-color);\n",
              "      border-left-color: var(--fill-color);\n",
              "    }\n",
              "    20% {\n",
              "      border-color: transparent;\n",
              "      border-left-color: var(--fill-color);\n",
              "      border-top-color: var(--fill-color);\n",
              "    }\n",
              "    30% {\n",
              "      border-color: transparent;\n",
              "      border-left-color: var(--fill-color);\n",
              "      border-top-color: var(--fill-color);\n",
              "      border-right-color: var(--fill-color);\n",
              "    }\n",
              "    40% {\n",
              "      border-color: transparent;\n",
              "      border-right-color: var(--fill-color);\n",
              "      border-top-color: var(--fill-color);\n",
              "    }\n",
              "    60% {\n",
              "      border-color: transparent;\n",
              "      border-right-color: var(--fill-color);\n",
              "    }\n",
              "    80% {\n",
              "      border-color: transparent;\n",
              "      border-right-color: var(--fill-color);\n",
              "      border-bottom-color: var(--fill-color);\n",
              "    }\n",
              "    90% {\n",
              "      border-color: transparent;\n",
              "      border-bottom-color: var(--fill-color);\n",
              "    }\n",
              "  }\n",
              "</style>\n",
              "\n",
              "  <script>\n",
              "    async function quickchart(key) {\n",
              "      const quickchartButtonEl =\n",
              "        document.querySelector('#' + key + ' button');\n",
              "      quickchartButtonEl.disabled = true;  // To prevent multiple clicks.\n",
              "      quickchartButtonEl.classList.add('colab-df-spinner');\n",
              "      try {\n",
              "        const charts = await google.colab.kernel.invokeFunction(\n",
              "            'suggestCharts', [key], {});\n",
              "      } catch (error) {\n",
              "        console.error('Error during call to suggestCharts:', error);\n",
              "      }\n",
              "      quickchartButtonEl.classList.remove('colab-df-spinner');\n",
              "      quickchartButtonEl.classList.add('colab-df-quickchart-complete');\n",
              "    }\n",
              "    (() => {\n",
              "      let quickchartButtonEl =\n",
              "        document.querySelector('#df-fb29e563-6837-4118-8bd5-a62abb0414b7 button');\n",
              "      quickchartButtonEl.style.display =\n",
              "        google.colab.kernel.accessAllowed ? 'block' : 'none';\n",
              "    })();\n",
              "  </script>\n",
              "</div>\n",
              "\n",
              "    </div>\n",
              "  </div>\n"
            ]
          },
          "metadata": {},
          "execution_count": 19
        }
      ]
    },
    {
      "cell_type": "markdown",
      "metadata": {
        "id": "VG-mwAqioVr3"
      },
      "source": [
        "4. Create a random forest classification model with 300 trees. Use 5-fold cross-validation to train and cross-validate the model on the preprocessed training dataset. Print out the accuracies returned by the five folds as well as their average and standard deviation values. **(10 pt)**"
      ]
    },
    {
      "cell_type": "code",
      "metadata": {
        "id": "Q-h41E6r3f3O",
        "colab": {
          "base_uri": "https://localhost:8080/"
        },
        "outputId": "8c7e89e2-8d5f-4555-f8d6-0f4417904ddf"
      },
      "source": [
        "# Create random forest classifier\n",
        "from sklearn.ensemble import RandomForestClassifier\n",
        "from sklearn.model_selection import cross_val_score\n",
        "rf = RandomForestClassifier(n_estimators = 300, random_state = 0)\n",
        "cvrf = cross_val_score(estimator = rf, X = X_train, y = y_train, cv = 5)\n",
        "\n",
        "# print results\n",
        "print('Accuracies:', cvrf)\n",
        "print('Averages:', cvrf.mean())\n",
        "print('Standard Deviations:', cvrf.std())"
      ],
      "execution_count": 22,
      "outputs": [
        {
          "output_type": "stream",
          "name": "stdout",
          "text": [
            "Accuracies: [0.62109375 0.64453125 0.66015625 0.6640625  0.67843137]\n",
            "Averages: 0.653655024509804\n",
            "Standard Deviations: 0.019534220026007233\n"
          ]
        }
      ]
    },
    {
      "cell_type": "markdown",
      "metadata": {
        "id": "gszRIU_7ogdX"
      },
      "source": [
        "5. Find and print out the best hyperparameter for the number of trees (try 5 values from 100 to 1000), ignoring the search for other hyperparameters. Also use 5-fold cross-validation during your search. **(15 pt)**"
      ]
    },
    {
      "cell_type": "code",
      "metadata": {
        "id": "GD_-9SJu8P6y",
        "colab": {
          "base_uri": "https://localhost:8080/"
        },
        "outputId": "7ab3ef79-e457-4fa3-b6ef-a324b9cb81c3"
      },
      "source": [
        "# tune number of trees\n",
        "from sklearn.model_selection import GridSearchCV\n",
        "params = {'n_estimators': [100, 300, 500, 800, 1000]}\n",
        "rf = RandomForestClassifier(random_state = 0)\n",
        "gsrf = GridSearchCV(rf, param_grid = params, scoring = 'accuracy', cv = 5)\n",
        "\n",
        "gsrf.fit(X_train, y_train)\n",
        "\n",
        "print(gsrf.best_params_)"
      ],
      "execution_count": 23,
      "outputs": [
        {
          "output_type": "stream",
          "name": "stdout",
          "text": [
            "{'n_estimators': 800}\n"
          ]
        }
      ]
    },
    {
      "cell_type": "markdown",
      "metadata": {
        "id": "W8HblBR9o547"
      },
      "source": [
        "6. Find and print out the testing accuracy of the model obtained using the best hyperparameter value on the preprocessed testing dataset **(5 pt)**"
      ]
    },
    {
      "cell_type": "code",
      "metadata": {
        "id": "N9_lHNB8Dyq6",
        "colab": {
          "base_uri": "https://localhost:8080/"
        },
        "outputId": "608c376b-cabe-429d-e95f-930e716ceabe"
      },
      "source": [
        "# test model and print accuracy\n",
        "from sklearn.metrics import accuracy_score\n",
        "pred = gsrf.predict(X_test)\n",
        "print(accuracy_score(y_test, pred))"
      ],
      "execution_count": 24,
      "outputs": [
        {
          "output_type": "stream",
          "name": "stdout",
          "text": [
            "0.725\n"
          ]
        }
      ]
    }
  ]
}